{
 "cells": [
  {
   "cell_type": "code",
   "execution_count": 1,
   "metadata": {},
   "outputs": [],
   "source": [
    "import pandas as pd\n",
    "import sqlite3"
   ]
  },
  {
   "cell_type": "markdown",
   "metadata": {},
   "source": [
    "### Create Python Dictionaries to store data to be inserted into DataFrames."
   ]
  },
  {
   "cell_type": "markdown",
   "metadata": {},
   "source": [
    "###### The tables are purposefully filled with with data issues such as mismatching types. data must be prepped/cleaned before use"
   ]
  },
  {
   "cell_type": "code",
   "execution_count": 2,
   "metadata": {},
   "outputs": [],
   "source": [
    "runners_data = {\n",
    "    'runner_id': (1,2,3,4),\n",
    "    'registration_date' : ('2021-01-01','2021-01-03','2021-01-08','2021-01-15')\n",
    "}\n",
    "\n",
    "cust_order_data = {\n",
    "    'order_id' : (1,2,3,3,4,4,4,5,6,7,8,9,10,10),\n",
    "    'customer_id' : (101,101,102,102,103,103,103,104,101,105,102,103,104,104),\n",
    "    'pizza_id' : (1,1,1,2,1,1,2,1,2,2,1,1,1,1),\n",
    "    'exclusions' : ('','','','',4,4,4,'null','null','null','null',4,'null',2),\n",
    "    'extras' : ('','','',pd.NA,'','','',1,'null',1,'null','1,5','null',4),\n",
    "    'order_time' : ('2020-01-01 18:05:02','2020-01-01 19:00:52','2020-01-02 23:51:23','2020-01-02 23:51:23',\n",
    "                   '2020-01-04 13:23:46','2020-01-04 13:23:46','2020-01-04 13:23:46','2020-01-08 21:00:29',\n",
    "                   '2020-01-08 21:03:13','2020-01-08 21:20:29','2020-01-09 23:54:33','2020-01-10 11:22:59',\n",
    "                   '2020-01-11 18:34:49','2020-01-11 18:34:49')\n",
    "}\n",
    "\n",
    "runner_order_data = {\n",
    "    'order_id' : (1,2,3,4,5,6,7,8,9,10),\n",
    "    'runner_id' : (1,1,1,2,3,3,2,2,2,1),\n",
    "    'pickup_time' : ('2020-01-01 18:15:34','2020-01-01 19:10:54','2020-01-03 00:12:37','2020-01-04 13:53:03',\n",
    "                    '2020-01-08 21:10:57','null', '2020-01-08 21:30:45','2020-01-10 00:15:02','null','2020-01-11 18:50:20'),\n",
    "    'distance' : ('20km','20km','13.4km',23.4,10,'null','25km','23.4k','null','10km'),\n",
    "    'duration' : ('32 minutes','27 minutes','20 mins',40,15,'null','25mins','15 minute','null','10minutes'),\n",
    "    'cancellation' : ('','',pd.NA,pd.NA,pd.NA,'Restuarant Cancellation','null','null','Customer Cancellation','null')\n",
    "    \n",
    "}\n",
    "\n",
    "pizza_names_data = {\n",
    "    'pizza_id' : (1,2),\n",
    "    'pizza_name' : ('Meatlovers','Vegetarian')\n",
    "}\n",
    "\n",
    "pizza_recipes_data = {\n",
    "    'pizza_id' : (1,2),\n",
    "    'toppings' : ('1, 2, 3, 4, 5, 6, 8, 10', '4, 6, 7, 9, 11, 12')\n",
    "}\n",
    "\n",
    "pizza_toppings_data = {\n",
    "    'topping_id' : (1,2,3,4,5,6,7,8,9,10,11,12),\n",
    "    'topping_name' : ('Bacon', 'BBQ Sauce','Beef','Cheese','Chicken','Mushrooms','Onions','Pepperoni','Peppers',\n",
    "                     'Salami','Tomatoes','Tomato Sauce')\n",
    "}"
   ]
  },
  {
   "cell_type": "markdown",
   "metadata": {},
   "source": [
    "### Create DataFrames using dictionaries from above."
   ]
  },
  {
   "cell_type": "code",
   "execution_count": 3,
   "metadata": {},
   "outputs": [],
   "source": [
    "runners_df = pd.DataFrame(runners_data)\n",
    "cust_order_df = pd.DataFrame(cust_order_data)\n",
    "runner_order_df = pd.DataFrame(runner_order_data)\n",
    "pizza_names_df = pd.DataFrame(pizza_names_data)\n",
    "pizza_recipes_df = pd.DataFrame(pizza_recipes_data)\n",
    "pizza_toppings_df = pd.DataFrame(pizza_toppings_data)"
   ]
  },
  {
   "cell_type": "markdown",
   "metadata": {},
   "source": [
    "### Preview each DataFrame that'll be used to answer the questions below."
   ]
  },
  {
   "cell_type": "code",
   "execution_count": 4,
   "metadata": {},
   "outputs": [
    {
     "data": {
      "text/html": [
       "<div>\n",
       "<style scoped>\n",
       "    .dataframe tbody tr th:only-of-type {\n",
       "        vertical-align: middle;\n",
       "    }\n",
       "\n",
       "    .dataframe tbody tr th {\n",
       "        vertical-align: top;\n",
       "    }\n",
       "\n",
       "    .dataframe thead th {\n",
       "        text-align: right;\n",
       "    }\n",
       "</style>\n",
       "<table border=\"1\" class=\"dataframe\">\n",
       "  <thead>\n",
       "    <tr style=\"text-align: right;\">\n",
       "      <th></th>\n",
       "      <th>runner_id</th>\n",
       "      <th>registration_date</th>\n",
       "    </tr>\n",
       "  </thead>\n",
       "  <tbody>\n",
       "    <tr>\n",
       "      <th>0</th>\n",
       "      <td>1</td>\n",
       "      <td>2021-01-01</td>\n",
       "    </tr>\n",
       "    <tr>\n",
       "      <th>1</th>\n",
       "      <td>2</td>\n",
       "      <td>2021-01-03</td>\n",
       "    </tr>\n",
       "    <tr>\n",
       "      <th>2</th>\n",
       "      <td>3</td>\n",
       "      <td>2021-01-08</td>\n",
       "    </tr>\n",
       "    <tr>\n",
       "      <th>3</th>\n",
       "      <td>4</td>\n",
       "      <td>2021-01-15</td>\n",
       "    </tr>\n",
       "  </tbody>\n",
       "</table>\n",
       "</div>"
      ],
      "text/plain": [
       "   runner_id registration_date\n",
       "0          1        2021-01-01\n",
       "1          2        2021-01-03\n",
       "2          3        2021-01-08\n",
       "3          4        2021-01-15"
      ]
     },
     "execution_count": 4,
     "metadata": {},
     "output_type": "execute_result"
    }
   ],
   "source": [
    "runners_df"
   ]
  },
  {
   "cell_type": "code",
   "execution_count": 5,
   "metadata": {},
   "outputs": [
    {
     "data": {
      "text/html": [
       "<div>\n",
       "<style scoped>\n",
       "    .dataframe tbody tr th:only-of-type {\n",
       "        vertical-align: middle;\n",
       "    }\n",
       "\n",
       "    .dataframe tbody tr th {\n",
       "        vertical-align: top;\n",
       "    }\n",
       "\n",
       "    .dataframe thead th {\n",
       "        text-align: right;\n",
       "    }\n",
       "</style>\n",
       "<table border=\"1\" class=\"dataframe\">\n",
       "  <thead>\n",
       "    <tr style=\"text-align: right;\">\n",
       "      <th></th>\n",
       "      <th>order_id</th>\n",
       "      <th>customer_id</th>\n",
       "      <th>pizza_id</th>\n",
       "      <th>exclusions</th>\n",
       "      <th>extras</th>\n",
       "      <th>order_time</th>\n",
       "    </tr>\n",
       "  </thead>\n",
       "  <tbody>\n",
       "    <tr>\n",
       "      <th>0</th>\n",
       "      <td>1</td>\n",
       "      <td>101</td>\n",
       "      <td>1</td>\n",
       "      <td></td>\n",
       "      <td></td>\n",
       "      <td>2020-01-01 18:05:02</td>\n",
       "    </tr>\n",
       "    <tr>\n",
       "      <th>1</th>\n",
       "      <td>2</td>\n",
       "      <td>101</td>\n",
       "      <td>1</td>\n",
       "      <td></td>\n",
       "      <td></td>\n",
       "      <td>2020-01-01 19:00:52</td>\n",
       "    </tr>\n",
       "    <tr>\n",
       "      <th>2</th>\n",
       "      <td>3</td>\n",
       "      <td>102</td>\n",
       "      <td>1</td>\n",
       "      <td></td>\n",
       "      <td></td>\n",
       "      <td>2020-01-02 23:51:23</td>\n",
       "    </tr>\n",
       "    <tr>\n",
       "      <th>3</th>\n",
       "      <td>3</td>\n",
       "      <td>102</td>\n",
       "      <td>2</td>\n",
       "      <td></td>\n",
       "      <td>&lt;NA&gt;</td>\n",
       "      <td>2020-01-02 23:51:23</td>\n",
       "    </tr>\n",
       "    <tr>\n",
       "      <th>4</th>\n",
       "      <td>4</td>\n",
       "      <td>103</td>\n",
       "      <td>1</td>\n",
       "      <td>4</td>\n",
       "      <td></td>\n",
       "      <td>2020-01-04 13:23:46</td>\n",
       "    </tr>\n",
       "    <tr>\n",
       "      <th>5</th>\n",
       "      <td>4</td>\n",
       "      <td>103</td>\n",
       "      <td>1</td>\n",
       "      <td>4</td>\n",
       "      <td></td>\n",
       "      <td>2020-01-04 13:23:46</td>\n",
       "    </tr>\n",
       "    <tr>\n",
       "      <th>6</th>\n",
       "      <td>4</td>\n",
       "      <td>103</td>\n",
       "      <td>2</td>\n",
       "      <td>4</td>\n",
       "      <td></td>\n",
       "      <td>2020-01-04 13:23:46</td>\n",
       "    </tr>\n",
       "    <tr>\n",
       "      <th>7</th>\n",
       "      <td>5</td>\n",
       "      <td>104</td>\n",
       "      <td>1</td>\n",
       "      <td>null</td>\n",
       "      <td>1</td>\n",
       "      <td>2020-01-08 21:00:29</td>\n",
       "    </tr>\n",
       "    <tr>\n",
       "      <th>8</th>\n",
       "      <td>6</td>\n",
       "      <td>101</td>\n",
       "      <td>2</td>\n",
       "      <td>null</td>\n",
       "      <td>null</td>\n",
       "      <td>2020-01-08 21:03:13</td>\n",
       "    </tr>\n",
       "    <tr>\n",
       "      <th>9</th>\n",
       "      <td>7</td>\n",
       "      <td>105</td>\n",
       "      <td>2</td>\n",
       "      <td>null</td>\n",
       "      <td>1</td>\n",
       "      <td>2020-01-08 21:20:29</td>\n",
       "    </tr>\n",
       "    <tr>\n",
       "      <th>10</th>\n",
       "      <td>8</td>\n",
       "      <td>102</td>\n",
       "      <td>1</td>\n",
       "      <td>null</td>\n",
       "      <td>null</td>\n",
       "      <td>2020-01-09 23:54:33</td>\n",
       "    </tr>\n",
       "    <tr>\n",
       "      <th>11</th>\n",
       "      <td>9</td>\n",
       "      <td>103</td>\n",
       "      <td>1</td>\n",
       "      <td>4</td>\n",
       "      <td>1,5</td>\n",
       "      <td>2020-01-10 11:22:59</td>\n",
       "    </tr>\n",
       "    <tr>\n",
       "      <th>12</th>\n",
       "      <td>10</td>\n",
       "      <td>104</td>\n",
       "      <td>1</td>\n",
       "      <td>null</td>\n",
       "      <td>null</td>\n",
       "      <td>2020-01-11 18:34:49</td>\n",
       "    </tr>\n",
       "    <tr>\n",
       "      <th>13</th>\n",
       "      <td>10</td>\n",
       "      <td>104</td>\n",
       "      <td>1</td>\n",
       "      <td>2</td>\n",
       "      <td>4</td>\n",
       "      <td>2020-01-11 18:34:49</td>\n",
       "    </tr>\n",
       "  </tbody>\n",
       "</table>\n",
       "</div>"
      ],
      "text/plain": [
       "    order_id  customer_id  pizza_id exclusions extras           order_time\n",
       "0          1          101         1                    2020-01-01 18:05:02\n",
       "1          2          101         1                    2020-01-01 19:00:52\n",
       "2          3          102         1                    2020-01-02 23:51:23\n",
       "3          3          102         2              <NA>  2020-01-02 23:51:23\n",
       "4          4          103         1          4         2020-01-04 13:23:46\n",
       "5          4          103         1          4         2020-01-04 13:23:46\n",
       "6          4          103         2          4         2020-01-04 13:23:46\n",
       "7          5          104         1       null      1  2020-01-08 21:00:29\n",
       "8          6          101         2       null   null  2020-01-08 21:03:13\n",
       "9          7          105         2       null      1  2020-01-08 21:20:29\n",
       "10         8          102         1       null   null  2020-01-09 23:54:33\n",
       "11         9          103         1          4    1,5  2020-01-10 11:22:59\n",
       "12        10          104         1       null   null  2020-01-11 18:34:49\n",
       "13        10          104         1          2      4  2020-01-11 18:34:49"
      ]
     },
     "execution_count": 5,
     "metadata": {},
     "output_type": "execute_result"
    }
   ],
   "source": [
    "cust_order_df"
   ]
  },
  {
   "cell_type": "code",
   "execution_count": 6,
   "metadata": {},
   "outputs": [
    {
     "data": {
      "text/html": [
       "<div>\n",
       "<style scoped>\n",
       "    .dataframe tbody tr th:only-of-type {\n",
       "        vertical-align: middle;\n",
       "    }\n",
       "\n",
       "    .dataframe tbody tr th {\n",
       "        vertical-align: top;\n",
       "    }\n",
       "\n",
       "    .dataframe thead th {\n",
       "        text-align: right;\n",
       "    }\n",
       "</style>\n",
       "<table border=\"1\" class=\"dataframe\">\n",
       "  <thead>\n",
       "    <tr style=\"text-align: right;\">\n",
       "      <th></th>\n",
       "      <th>order_id</th>\n",
       "      <th>runner_id</th>\n",
       "      <th>pickup_time</th>\n",
       "      <th>distance</th>\n",
       "      <th>duration</th>\n",
       "      <th>cancellation</th>\n",
       "    </tr>\n",
       "  </thead>\n",
       "  <tbody>\n",
       "    <tr>\n",
       "      <th>0</th>\n",
       "      <td>1</td>\n",
       "      <td>1</td>\n",
       "      <td>2020-01-01 18:15:34</td>\n",
       "      <td>20km</td>\n",
       "      <td>32 minutes</td>\n",
       "      <td></td>\n",
       "    </tr>\n",
       "    <tr>\n",
       "      <th>1</th>\n",
       "      <td>2</td>\n",
       "      <td>1</td>\n",
       "      <td>2020-01-01 19:10:54</td>\n",
       "      <td>20km</td>\n",
       "      <td>27 minutes</td>\n",
       "      <td></td>\n",
       "    </tr>\n",
       "    <tr>\n",
       "      <th>2</th>\n",
       "      <td>3</td>\n",
       "      <td>1</td>\n",
       "      <td>2020-01-03 00:12:37</td>\n",
       "      <td>13.4km</td>\n",
       "      <td>20 mins</td>\n",
       "      <td>&lt;NA&gt;</td>\n",
       "    </tr>\n",
       "    <tr>\n",
       "      <th>3</th>\n",
       "      <td>4</td>\n",
       "      <td>2</td>\n",
       "      <td>2020-01-04 13:53:03</td>\n",
       "      <td>23.4</td>\n",
       "      <td>40</td>\n",
       "      <td>&lt;NA&gt;</td>\n",
       "    </tr>\n",
       "    <tr>\n",
       "      <th>4</th>\n",
       "      <td>5</td>\n",
       "      <td>3</td>\n",
       "      <td>2020-01-08 21:10:57</td>\n",
       "      <td>10</td>\n",
       "      <td>15</td>\n",
       "      <td>&lt;NA&gt;</td>\n",
       "    </tr>\n",
       "    <tr>\n",
       "      <th>5</th>\n",
       "      <td>6</td>\n",
       "      <td>3</td>\n",
       "      <td>null</td>\n",
       "      <td>null</td>\n",
       "      <td>null</td>\n",
       "      <td>Restuarant Cancellation</td>\n",
       "    </tr>\n",
       "    <tr>\n",
       "      <th>6</th>\n",
       "      <td>7</td>\n",
       "      <td>2</td>\n",
       "      <td>2020-01-08 21:30:45</td>\n",
       "      <td>25km</td>\n",
       "      <td>25mins</td>\n",
       "      <td>null</td>\n",
       "    </tr>\n",
       "    <tr>\n",
       "      <th>7</th>\n",
       "      <td>8</td>\n",
       "      <td>2</td>\n",
       "      <td>2020-01-10 00:15:02</td>\n",
       "      <td>23.4k</td>\n",
       "      <td>15 minute</td>\n",
       "      <td>null</td>\n",
       "    </tr>\n",
       "    <tr>\n",
       "      <th>8</th>\n",
       "      <td>9</td>\n",
       "      <td>2</td>\n",
       "      <td>null</td>\n",
       "      <td>null</td>\n",
       "      <td>null</td>\n",
       "      <td>Customer Cancellation</td>\n",
       "    </tr>\n",
       "    <tr>\n",
       "      <th>9</th>\n",
       "      <td>10</td>\n",
       "      <td>1</td>\n",
       "      <td>2020-01-11 18:50:20</td>\n",
       "      <td>10km</td>\n",
       "      <td>10minutes</td>\n",
       "      <td>null</td>\n",
       "    </tr>\n",
       "  </tbody>\n",
       "</table>\n",
       "</div>"
      ],
      "text/plain": [
       "   order_id  runner_id          pickup_time distance    duration  \\\n",
       "0         1          1  2020-01-01 18:15:34     20km  32 minutes   \n",
       "1         2          1  2020-01-01 19:10:54     20km  27 minutes   \n",
       "2         3          1  2020-01-03 00:12:37   13.4km     20 mins   \n",
       "3         4          2  2020-01-04 13:53:03     23.4          40   \n",
       "4         5          3  2020-01-08 21:10:57       10          15   \n",
       "5         6          3                 null     null        null   \n",
       "6         7          2  2020-01-08 21:30:45     25km      25mins   \n",
       "7         8          2  2020-01-10 00:15:02    23.4k   15 minute   \n",
       "8         9          2                 null     null        null   \n",
       "9        10          1  2020-01-11 18:50:20     10km   10minutes   \n",
       "\n",
       "              cancellation  \n",
       "0                           \n",
       "1                           \n",
       "2                     <NA>  \n",
       "3                     <NA>  \n",
       "4                     <NA>  \n",
       "5  Restuarant Cancellation  \n",
       "6                     null  \n",
       "7                     null  \n",
       "8    Customer Cancellation  \n",
       "9                     null  "
      ]
     },
     "execution_count": 6,
     "metadata": {},
     "output_type": "execute_result"
    }
   ],
   "source": [
    "runner_order_df"
   ]
  },
  {
   "cell_type": "code",
   "execution_count": 7,
   "metadata": {},
   "outputs": [
    {
     "data": {
      "text/html": [
       "<div>\n",
       "<style scoped>\n",
       "    .dataframe tbody tr th:only-of-type {\n",
       "        vertical-align: middle;\n",
       "    }\n",
       "\n",
       "    .dataframe tbody tr th {\n",
       "        vertical-align: top;\n",
       "    }\n",
       "\n",
       "    .dataframe thead th {\n",
       "        text-align: right;\n",
       "    }\n",
       "</style>\n",
       "<table border=\"1\" class=\"dataframe\">\n",
       "  <thead>\n",
       "    <tr style=\"text-align: right;\">\n",
       "      <th></th>\n",
       "      <th>pizza_id</th>\n",
       "      <th>pizza_name</th>\n",
       "    </tr>\n",
       "  </thead>\n",
       "  <tbody>\n",
       "    <tr>\n",
       "      <th>0</th>\n",
       "      <td>1</td>\n",
       "      <td>Meatlovers</td>\n",
       "    </tr>\n",
       "    <tr>\n",
       "      <th>1</th>\n",
       "      <td>2</td>\n",
       "      <td>Vegetarian</td>\n",
       "    </tr>\n",
       "  </tbody>\n",
       "</table>\n",
       "</div>"
      ],
      "text/plain": [
       "   pizza_id  pizza_name\n",
       "0         1  Meatlovers\n",
       "1         2  Vegetarian"
      ]
     },
     "execution_count": 7,
     "metadata": {},
     "output_type": "execute_result"
    }
   ],
   "source": [
    "pizza_names_df"
   ]
  },
  {
   "cell_type": "code",
   "execution_count": 8,
   "metadata": {},
   "outputs": [
    {
     "data": {
      "text/html": [
       "<div>\n",
       "<style scoped>\n",
       "    .dataframe tbody tr th:only-of-type {\n",
       "        vertical-align: middle;\n",
       "    }\n",
       "\n",
       "    .dataframe tbody tr th {\n",
       "        vertical-align: top;\n",
       "    }\n",
       "\n",
       "    .dataframe thead th {\n",
       "        text-align: right;\n",
       "    }\n",
       "</style>\n",
       "<table border=\"1\" class=\"dataframe\">\n",
       "  <thead>\n",
       "    <tr style=\"text-align: right;\">\n",
       "      <th></th>\n",
       "      <th>pizza_id</th>\n",
       "      <th>toppings</th>\n",
       "    </tr>\n",
       "  </thead>\n",
       "  <tbody>\n",
       "    <tr>\n",
       "      <th>0</th>\n",
       "      <td>1</td>\n",
       "      <td>1, 2, 3, 4, 5, 6, 8, 10</td>\n",
       "    </tr>\n",
       "    <tr>\n",
       "      <th>1</th>\n",
       "      <td>2</td>\n",
       "      <td>4, 6, 7, 9, 11, 12</td>\n",
       "    </tr>\n",
       "  </tbody>\n",
       "</table>\n",
       "</div>"
      ],
      "text/plain": [
       "   pizza_id                 toppings\n",
       "0         1  1, 2, 3, 4, 5, 6, 8, 10\n",
       "1         2       4, 6, 7, 9, 11, 12"
      ]
     },
     "execution_count": 8,
     "metadata": {},
     "output_type": "execute_result"
    }
   ],
   "source": [
    "pizza_recipes_df"
   ]
  },
  {
   "cell_type": "code",
   "execution_count": 9,
   "metadata": {},
   "outputs": [
    {
     "data": {
      "text/html": [
       "<div>\n",
       "<style scoped>\n",
       "    .dataframe tbody tr th:only-of-type {\n",
       "        vertical-align: middle;\n",
       "    }\n",
       "\n",
       "    .dataframe tbody tr th {\n",
       "        vertical-align: top;\n",
       "    }\n",
       "\n",
       "    .dataframe thead th {\n",
       "        text-align: right;\n",
       "    }\n",
       "</style>\n",
       "<table border=\"1\" class=\"dataframe\">\n",
       "  <thead>\n",
       "    <tr style=\"text-align: right;\">\n",
       "      <th></th>\n",
       "      <th>topping_id</th>\n",
       "      <th>topping_name</th>\n",
       "    </tr>\n",
       "  </thead>\n",
       "  <tbody>\n",
       "    <tr>\n",
       "      <th>0</th>\n",
       "      <td>1</td>\n",
       "      <td>Bacon</td>\n",
       "    </tr>\n",
       "    <tr>\n",
       "      <th>1</th>\n",
       "      <td>2</td>\n",
       "      <td>BBQ Sauce</td>\n",
       "    </tr>\n",
       "    <tr>\n",
       "      <th>2</th>\n",
       "      <td>3</td>\n",
       "      <td>Beef</td>\n",
       "    </tr>\n",
       "    <tr>\n",
       "      <th>3</th>\n",
       "      <td>4</td>\n",
       "      <td>Cheese</td>\n",
       "    </tr>\n",
       "    <tr>\n",
       "      <th>4</th>\n",
       "      <td>5</td>\n",
       "      <td>Chicken</td>\n",
       "    </tr>\n",
       "    <tr>\n",
       "      <th>5</th>\n",
       "      <td>6</td>\n",
       "      <td>Mushrooms</td>\n",
       "    </tr>\n",
       "    <tr>\n",
       "      <th>6</th>\n",
       "      <td>7</td>\n",
       "      <td>Onions</td>\n",
       "    </tr>\n",
       "    <tr>\n",
       "      <th>7</th>\n",
       "      <td>8</td>\n",
       "      <td>Pepperoni</td>\n",
       "    </tr>\n",
       "    <tr>\n",
       "      <th>8</th>\n",
       "      <td>9</td>\n",
       "      <td>Peppers</td>\n",
       "    </tr>\n",
       "    <tr>\n",
       "      <th>9</th>\n",
       "      <td>10</td>\n",
       "      <td>Salami</td>\n",
       "    </tr>\n",
       "    <tr>\n",
       "      <th>10</th>\n",
       "      <td>11</td>\n",
       "      <td>Tomatoes</td>\n",
       "    </tr>\n",
       "    <tr>\n",
       "      <th>11</th>\n",
       "      <td>12</td>\n",
       "      <td>Tomato Sauce</td>\n",
       "    </tr>\n",
       "  </tbody>\n",
       "</table>\n",
       "</div>"
      ],
      "text/plain": [
       "    topping_id  topping_name\n",
       "0            1         Bacon\n",
       "1            2     BBQ Sauce\n",
       "2            3          Beef\n",
       "3            4        Cheese\n",
       "4            5       Chicken\n",
       "5            6     Mushrooms\n",
       "6            7        Onions\n",
       "7            8     Pepperoni\n",
       "8            9       Peppers\n",
       "9           10        Salami\n",
       "10          11      Tomatoes\n",
       "11          12  Tomato Sauce"
      ]
     },
     "execution_count": 9,
     "metadata": {},
     "output_type": "execute_result"
    }
   ],
   "source": [
    "pizza_toppings_df"
   ]
  },
  {
   "cell_type": "markdown",
   "metadata": {},
   "source": [
    "## **Case Study Questions**"
   ]
  },
  {
   "cell_type": "markdown",
   "metadata": {},
   "source": [
    "### A.Pizza Metrics"
   ]
  },
  {
   "cell_type": "markdown",
   "metadata": {},
   "source": [
    "#### 1. How many pizzas were ordered?"
   ]
  },
  {
   "cell_type": "markdown",
   "metadata": {},
   "source": [
    " -  **Python**"
   ]
  },
  {
   "cell_type": "code",
   "execution_count": 10,
   "metadata": {},
   "outputs": [
    {
     "name": "stdout",
     "output_type": "stream",
     "text": [
      "pizzas ordered: 14\n",
      "pizzas ordered: 14\n"
     ]
    }
   ],
   "source": [
    "#take the count of the customer_orders table\n",
    "print(\"pizzas ordered: \" + str(len(cust_order_df))) #len returns an int, using str() to concatenate\n",
    "\n",
    "#can also be done in this manner\n",
    "print(\"pizzas ordered: \" + str(cust_order_df.shape[0]))#df.shape returns table dimensions (row,col), [0] being the first index"
   ]
  },
  {
   "cell_type": "markdown",
   "metadata": {},
   "source": [
    "#### 2. How many unique customer orders were made?"
   ]
  },
  {
   "cell_type": "markdown",
   "metadata": {},
   "source": [
    "-  **Python**"
   ]
  },
  {
   "cell_type": "code",
   "execution_count": 11,
   "metadata": {},
   "outputs": [
    {
     "name": "stdout",
     "output_type": "stream",
     "text": [
      "unique orders: 10\n"
     ]
    }
   ],
   "source": [
    "print(\"unique orders: \" + str(len(cust_order_df['order_id'].unique())))"
   ]
  },
  {
   "cell_type": "markdown",
   "metadata": {},
   "source": [
    "#### 3. How many successful orders were delivered by each runner?"
   ]
  },
  {
   "cell_type": "markdown",
   "metadata": {},
   "source": [
    "-  **Python**"
   ]
  },
  {
   "cell_type": "code",
   "execution_count": 12,
   "metadata": {},
   "outputs": [
    {
     "data": {
      "text/html": [
       "<div>\n",
       "<style scoped>\n",
       "    .dataframe tbody tr th:only-of-type {\n",
       "        vertical-align: middle;\n",
       "    }\n",
       "\n",
       "    .dataframe tbody tr th {\n",
       "        vertical-align: top;\n",
       "    }\n",
       "\n",
       "    .dataframe thead th {\n",
       "        text-align: right;\n",
       "    }\n",
       "</style>\n",
       "<table border=\"1\" class=\"dataframe\">\n",
       "  <thead>\n",
       "    <tr style=\"text-align: right;\">\n",
       "      <th></th>\n",
       "      <th>count</th>\n",
       "    </tr>\n",
       "    <tr>\n",
       "      <th>runner_id</th>\n",
       "      <th></th>\n",
       "    </tr>\n",
       "  </thead>\n",
       "  <tbody>\n",
       "    <tr>\n",
       "      <th>1</th>\n",
       "      <td>4</td>\n",
       "    </tr>\n",
       "    <tr>\n",
       "      <th>2</th>\n",
       "      <td>3</td>\n",
       "    </tr>\n",
       "    <tr>\n",
       "      <th>3</th>\n",
       "      <td>1</td>\n",
       "    </tr>\n",
       "  </tbody>\n",
       "</table>\n",
       "</div>"
      ],
      "text/plain": [
       "           count\n",
       "runner_id       \n",
       "1              4\n",
       "2              3\n",
       "3              1"
      ]
     },
     "execution_count": 12,
     "metadata": {},
     "output_type": "execute_result"
    }
   ],
   "source": [
    "#filter the dataframe to exclude cancelled orders and groupby on the filtered results, must include na=False to prevent Value error\n",
    "runner_order_df.loc[~runner_order_df['cancellation'].str.contains('Cancellation', na=False)]\\\n",
    ".groupby('runner_id')['pickup_time'].agg({'count'})"
   ]
  },
  {
   "cell_type": "markdown",
   "metadata": {},
   "source": [
    "#### 4. How many of each type of pizza was delivered?"
   ]
  },
  {
   "cell_type": "code",
   "execution_count": 13,
   "metadata": {},
   "outputs": [
    {
     "data": {
      "text/html": [
       "<div>\n",
       "<style scoped>\n",
       "    .dataframe tbody tr th:only-of-type {\n",
       "        vertical-align: middle;\n",
       "    }\n",
       "\n",
       "    .dataframe tbody tr th {\n",
       "        vertical-align: top;\n",
       "    }\n",
       "\n",
       "    .dataframe thead th {\n",
       "        text-align: right;\n",
       "    }\n",
       "</style>\n",
       "<table border=\"1\" class=\"dataframe\">\n",
       "  <thead>\n",
       "    <tr style=\"text-align: right;\">\n",
       "      <th></th>\n",
       "      <th>count</th>\n",
       "    </tr>\n",
       "    <tr>\n",
       "      <th>pizza_name</th>\n",
       "      <th></th>\n",
       "    </tr>\n",
       "  </thead>\n",
       "  <tbody>\n",
       "    <tr>\n",
       "      <th>Meatlovers</th>\n",
       "      <td>9</td>\n",
       "    </tr>\n",
       "    <tr>\n",
       "      <th>Vegetarian</th>\n",
       "      <td>3</td>\n",
       "    </tr>\n",
       "  </tbody>\n",
       "</table>\n",
       "</div>"
      ],
      "text/plain": [
       "            count\n",
       "pizza_name       \n",
       "Meatlovers      9\n",
       "Vegetarian      3"
      ]
     },
     "execution_count": 13,
     "metadata": {},
     "output_type": "execute_result"
    }
   ],
   "source": [
    "\"\"\"\n",
    "i'm approaching this in a 2 step process, first the total amount of orders placed minus total amount of orders cancelled. \n",
    "to account for orders delivered. afterwards groupby those results.\n",
    "\"\"\"\n",
    "\n",
    "#use same logic from question #3 and store in a variable\n",
    "valid_orders_df = runner_order_df.loc[~runner_order_df['cancellation'].str.contains('Cancellation', na=False)]\n",
    "\n",
    "pd.merge(pd.merge(valid_orders_df, cust_order_df,how='left', left_on='order_id', right_on='order_id'), pizza_names_df)\\\n",
    ".groupby(['pizza_name']).agg({'count'})['pizza_id']\n",
    "\n"
   ]
  },
  {
   "cell_type": "markdown",
   "metadata": {},
   "source": [
    "#### 5. How many Vegetarian and Meatlovers were ordered by each customer?"
   ]
  },
  {
   "cell_type": "code",
   "execution_count": 14,
   "metadata": {},
   "outputs": [
    {
     "data": {
      "text/html": [
       "<div>\n",
       "<style scoped>\n",
       "    .dataframe tbody tr th:only-of-type {\n",
       "        vertical-align: middle;\n",
       "    }\n",
       "\n",
       "    .dataframe tbody tr th {\n",
       "        vertical-align: top;\n",
       "    }\n",
       "\n",
       "    .dataframe thead th {\n",
       "        text-align: right;\n",
       "    }\n",
       "</style>\n",
       "<table border=\"1\" class=\"dataframe\">\n",
       "  <thead>\n",
       "    <tr style=\"text-align: right;\">\n",
       "      <th></th>\n",
       "      <th></th>\n",
       "      <th>count</th>\n",
       "    </tr>\n",
       "    <tr>\n",
       "      <th>customer_id</th>\n",
       "      <th>pizza_name</th>\n",
       "      <th></th>\n",
       "    </tr>\n",
       "  </thead>\n",
       "  <tbody>\n",
       "    <tr>\n",
       "      <th rowspan=\"2\" valign=\"top\">101</th>\n",
       "      <th>Meatlovers</th>\n",
       "      <td>2</td>\n",
       "    </tr>\n",
       "    <tr>\n",
       "      <th>Vegetarian</th>\n",
       "      <td>1</td>\n",
       "    </tr>\n",
       "    <tr>\n",
       "      <th rowspan=\"2\" valign=\"top\">102</th>\n",
       "      <th>Meatlovers</th>\n",
       "      <td>2</td>\n",
       "    </tr>\n",
       "    <tr>\n",
       "      <th>Vegetarian</th>\n",
       "      <td>1</td>\n",
       "    </tr>\n",
       "    <tr>\n",
       "      <th rowspan=\"2\" valign=\"top\">103</th>\n",
       "      <th>Meatlovers</th>\n",
       "      <td>3</td>\n",
       "    </tr>\n",
       "    <tr>\n",
       "      <th>Vegetarian</th>\n",
       "      <td>1</td>\n",
       "    </tr>\n",
       "    <tr>\n",
       "      <th>104</th>\n",
       "      <th>Meatlovers</th>\n",
       "      <td>3</td>\n",
       "    </tr>\n",
       "    <tr>\n",
       "      <th>105</th>\n",
       "      <th>Vegetarian</th>\n",
       "      <td>1</td>\n",
       "    </tr>\n",
       "  </tbody>\n",
       "</table>\n",
       "</div>"
      ],
      "text/plain": [
       "                        count\n",
       "customer_id pizza_name       \n",
       "101         Meatlovers      2\n",
       "            Vegetarian      1\n",
       "102         Meatlovers      2\n",
       "            Vegetarian      1\n",
       "103         Meatlovers      3\n",
       "            Vegetarian      1\n",
       "104         Meatlovers      3\n",
       "105         Vegetarian      1"
      ]
     },
     "execution_count": 14,
     "metadata": {},
     "output_type": "execute_result"
    }
   ],
   "source": [
    "\"\"\"\n",
    "This one's a little tricky because it asks for pizzas ordered, not delivered.. so you include the cancelled orders. I'm \n",
    "using runner_order_df instead of valid_orders_df created in #4 because of this reason.\n",
    "\"\"\"\n",
    "pd.merge(pd.merge(runner_order_df, cust_order_df,how='left', left_on='order_id', right_on='order_id'), pizza_names_df)\\\n",
    ".groupby(['customer_id','pizza_name']).agg({'count'})['pizza_id']"
   ]
  },
  {
   "cell_type": "markdown",
   "metadata": {},
   "source": [
    "#### 6. What was the maximum number of pizzas delivered in a single order?"
   ]
  },
  {
   "cell_type": "markdown",
   "metadata": {},
   "source": [
    "#### 7. For each customer, how many delivered pizzas had at least 1 change and how any had no changes?"
   ]
  },
  {
   "cell_type": "markdown",
   "metadata": {},
   "source": [
    "#### 8. How many pizzas were delivered that had both exclusions and extras?"
   ]
  },
  {
   "cell_type": "markdown",
   "metadata": {},
   "source": [
    "#### 9. What was the total volume of pizzas ordered for each hour of the day?"
   ]
  },
  {
   "cell_type": "markdown",
   "metadata": {},
   "source": [
    "#### 10. What was the volume of orders for each day of the week?"
   ]
  },
  {
   "cell_type": "markdown",
   "metadata": {},
   "source": [
    "### B. Runner and Customer Experience"
   ]
  },
  {
   "cell_type": "markdown",
   "metadata": {},
   "source": [
    "#### 1. How many runners signed up for each 1 week period? (i.e. week starts 2021-01-01)"
   ]
  },
  {
   "cell_type": "markdown",
   "metadata": {},
   "source": [
    "#### 2. What was the average time in minutes it took for each runner to arrive at the Pizza Runer HQ to pick up the order?"
   ]
  },
  {
   "cell_type": "markdown",
   "metadata": {},
   "source": [
    "#### 3. Is there any relationshiop between the number of pizzas ad how long the order takes to prepare?"
   ]
  },
  {
   "cell_type": "markdown",
   "metadata": {},
   "source": [
    "#### 4. What was the average distance travelled for each customer?"
   ]
  },
  {
   "cell_type": "markdown",
   "metadata": {},
   "source": [
    "#### 5. What was the difference between the longest and shortest deliver times for all orders?"
   ]
  },
  {
   "cell_type": "markdown",
   "metadata": {},
   "source": [
    "#### 6. What was the average speed for reach runner for each delivery and do you notice any trend for these values?"
   ]
  },
  {
   "cell_type": "markdown",
   "metadata": {},
   "source": [
    "#### 7. What is the successful delivery percentage for each runner?"
   ]
  },
  {
   "cell_type": "markdown",
   "metadata": {},
   "source": [
    "### C. Ingredient Optimisation"
   ]
  },
  {
   "cell_type": "markdown",
   "metadata": {},
   "source": [
    "#### 1. What are the standard ingredients for each pizza?"
   ]
  },
  {
   "cell_type": "markdown",
   "metadata": {},
   "source": [
    "#### 2. What are the most commonly added extra?"
   ]
  },
  {
   "cell_type": "markdown",
   "metadata": {},
   "source": [
    "#### 3. What was the most common exclusion?"
   ]
  },
  {
   "cell_type": "markdown",
   "metadata": {},
   "source": [
    "**4. Generate an order item for each record in the `customers_orders` table in the format of one of the following:<br>**\n",
    "> -  **Meat Lovers** <br>\n",
    "> -  **Meat Lovers - Exclude Beef** <br>\n",
    "> -  **Meat Lovers - Extra Bacon** <br>\n",
    "> -  **Meat Lovers - Exclude Cheese, Bacon - Extra Mushroom, Peppers**"
   ]
  },
  {
   "cell_type": "markdown",
   "metadata": {},
   "source": [
    "**5. Generate an alphabetically ordered comma separated ingredient list for each pizza order from the `customer orders`<br>**\n",
    "**table and add a 2x in front of any relevant ingredients<br>**\n",
    ">  -  **For Example: 'Meat Lovers: 2xBacon, Beef, ... , Salami'**"
   ]
  },
  {
   "cell_type": "markdown",
   "metadata": {},
   "source": [
    "#### 6. What is the total quantity of each ingredient used in all delivered pizzas sorted by most frequent first?"
   ]
  },
  {
   "cell_type": "markdown",
   "metadata": {},
   "source": [
    "### D. Pricing and Ratings"
   ]
  },
  {
   "cell_type": "markdown",
   "metadata": {},
   "source": [
    "\n",
    "#### 1. If a Meat Lovers pizza costs \\\\$12 and Vegeterian costs \\\\$10 and there were no charges for changes - how much money has Pizza Runner made so far if there are no delivery fees?"
   ]
  },
  {
   "cell_type": "markdown",
   "metadata": {},
   "source": [
    "**2. What if there was an additional \\\\$1 charge for any pizza extras?**<br>\n",
    "> -  **Add cheese is \\\\$1 extra**"
   ]
  },
  {
   "cell_type": "markdown",
   "metadata": {},
   "source": [
    "**3. The Pizza Runner Team now wants to add an additional rating system that allows customers to rate their runner, how<br>\n",
    "would you design an additional table for this new dataset - generate a schema for this new table and insert your own<br>\n",
    "data for ratings for each successful customer order between 1 to 5.**"
   ]
  },
  {
   "cell_type": "markdown",
   "metadata": {},
   "source": [
    "**4. Using your newly generated table - can you join all of the information together to form a table which has the following information for succesful deliveries?**<br>\n",
    "> -  **`customer_id`**<br>\n",
    "> -  **`order_id`**<br>\n",
    "> -  **`runner_id`**<br>\n",
    "> -  **`rating`**<br>\n",
    "> -  **`order_time`**<br>\n",
    "> -  **`pickup_time`**<br>\n",
    "> -  **Time between order and pickup**<br>\n",
    "> -  **Delivery duration**<br>\n",
    "> -  **Average speed**<br>\n",
    "> - **Total number of pizzas**<br>"
   ]
  },
  {
   "cell_type": "markdown",
   "metadata": {},
   "source": [
    "**5. If a Meat Lovers pizza was \\\\$12 and Vegetarian \\\\$10 fixed prices with no cost for extras and each runner is paid $0.30 per kilometer traveled - how much money does Pizza Runner have left over after these deliveries?**"
   ]
  },
  {
   "cell_type": "code",
   "execution_count": null,
   "metadata": {},
   "outputs": [],
   "source": []
  }
 ],
 "metadata": {
  "kernelspec": {
   "display_name": "Python 3",
   "language": "python",
   "name": "python3"
  },
  "language_info": {
   "codemirror_mode": {
    "name": "ipython",
    "version": 3
   },
   "file_extension": ".py",
   "mimetype": "text/x-python",
   "name": "python",
   "nbconvert_exporter": "python",
   "pygments_lexer": "ipython3",
   "version": "3.7.6"
  }
 },
 "nbformat": 4,
 "nbformat_minor": 4
}
